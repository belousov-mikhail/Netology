{
 "cells": [
  {
   "cell_type": "code",
   "execution_count": 1,
   "metadata": {
    "collapsed": true
   },
   "outputs": [],
   "source": [
    "import pandas as pd\n",
    "import numpy as np\n",
    "import os\n",
    "PATH = os.path.abspath(r'C:\\Projects\\Netology\\Netology41\\names')"
   ]
  },
  {
   "cell_type": "code",
   "execution_count": 2,
   "metadata": {
    "collapsed": false
   },
   "outputs": [],
   "source": [
    "# this variant returns top3 names as a function call value\n",
    "def count_top3 (years):\n",
    "    all_years = []\n",
    "    for year in years:\n",
    "        year = pd.read_csv(PATH+'\\\\yob{}.txt'.format(year), names =['Names', 'Gender', 'Count'])\n",
    "        all_years.append(year)\n",
    "    all_names_counted = pd.concat(all_years).groupby('Names').aggregate(sum).sort_values(by='Count', ascending=False)\n",
    "    return list(all_names_counted.index[:3])"
   ]
  },
  {
   "cell_type": "code",
   "execution_count": 3,
   "metadata": {
    "collapsed": false
   },
   "outputs": [
    {
     "data": {
      "text/plain": [
       "['Isabella', 'Jacob', 'Sophia']"
      ]
     },
     "execution_count": 3,
     "metadata": {},
     "output_type": "execute_result"
    }
   ],
   "source": [
    "popular_names = count_top3([2010])\n",
    "popular_names"
   ]
  },
  {
   "cell_type": "code",
   "execution_count": 4,
   "metadata": {
    "collapsed": false
   },
   "outputs": [
    {
     "data": {
      "text/plain": [
       "['Jacob', 'Michael', 'Joshua']"
      ]
     },
     "execution_count": 4,
     "metadata": {},
     "output_type": "execute_result"
    }
   ],
   "source": [
    "popular_names = count_top3([i for i in range(2001, 2011)])\n",
    "popular_names"
   ]
  },
  {
   "cell_type": "code",
   "execution_count": 5,
   "metadata": {
    "collapsed": false
   },
   "outputs": [
    {
     "data": {
      "text/plain": [
       "['James', 'John', 'Robert']"
      ]
     },
     "execution_count": 5,
     "metadata": {},
     "output_type": "execute_result"
    }
   ],
   "source": [
    "popular_names = count_top3([1900, 1950, 2000])\n",
    "popular_names"
   ]
  },
  {
   "cell_type": "code",
   "execution_count": 6,
   "metadata": {
    "collapsed": true
   },
   "outputs": [],
   "source": [
    "#this variant just prints out top3 names\n",
    "def count_top3_print (years):\n",
    "    all_years = []\n",
    "    for year in years:\n",
    "        year = pd.read_csv(PATH+'\\\\yob{}.txt'.format(year), names =['Names', 'Gender', 'Count'])\n",
    "        all_years.append(year)\n",
    "    all_names_counted = pd.concat(all_years).groupby('Names').aggregate(sum).sort_values(by='Count', ascending=False)\n",
    "    print (list(all_names_counted.index[:3]))"
   ]
  },
  {
   "cell_type": "code",
   "execution_count": 7,
   "metadata": {
    "collapsed": false
   },
   "outputs": [
    {
     "name": "stdout",
     "output_type": "stream",
     "text": [
      "['Michael', 'Matthew', 'Jacob']\n"
     ]
    }
   ],
   "source": [
    "count_top3_print([i for i in range(1990, 2011, 2)])"
   ]
  }
 ],
 "metadata": {
  "kernelspec": {
   "display_name": "Python 3",
   "language": "python",
   "name": "python3"
  },
  "language_info": {
   "codemirror_mode": {
    "name": "ipython",
    "version": 3
   },
   "file_extension": ".py",
   "mimetype": "text/x-python",
   "name": "python",
   "nbconvert_exporter": "python",
   "pygments_lexer": "ipython3",
   "version": "3.6.0"
  }
 },
 "nbformat": 4,
 "nbformat_minor": 2
}
