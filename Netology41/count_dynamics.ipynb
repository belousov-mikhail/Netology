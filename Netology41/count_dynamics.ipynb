{
 "cells": [
  {
   "cell_type": "code",
   "execution_count": 1,
   "metadata": {
    "collapsed": false
   },
   "outputs": [],
   "source": [
    "import pandas as pd\n",
    "import numpy as np\n",
    "import os\n",
    "import matplotlib.pyplot as plt\n",
    "%matplotlib inline\n",
    "PATH = os.path.abspath(r'C:\\Projects\\Netology\\Netology41\\names')"
   ]
  },
  {
   "cell_type": "code",
   "execution_count": 2,
   "metadata": {
    "collapsed": false
   },
   "outputs": [
    {
     "name": "stdout",
     "output_type": "stream",
     "text": [
      "'M':[150490, 1791474, 1962556], 'F':[299822, 1713450, 1814738].\n"
     ]
    }
   ],
   "source": [
    "def count_dynamics(years):\n",
    "    all_male_names, all_female_names = [],[]\n",
    "    for year in years:\n",
    "        names = pd.read_csv(PATH+'\\\\yob{}.txt'.format(year), names =['Names', 'Gender', 'Count'])        \n",
    "        all_male_names.append(names[names.Gender=='M']['Count'].sum())\n",
    "        all_female_names.append(names[names.Gender=='F']['Count'].sum())\n",
    "    print (\"'M':{}, 'F':{}.\".format(all_male_names, all_female_names))\n",
    "count_dynamics([1900, 1950, 2000])   \n",
    "        "
   ]
  },
  {
   "cell_type": "code",
   "execution_count": 3,
   "metadata": {
    "collapsed": false,
    "scrolled": false
   },
   "outputs": [
    {
     "name": "stdout",
     "output_type": "stream",
     "text": [
      "'M':[2052662, 2019523, 1996492, 1960486, 1931313, 1902971, 1893548, 1884324, 1910424, 1918984, 1962556, 1941401, 1939950, 1973612, 1983010, 1995115, 2052652, 2072505, 2036750, 1979895, 1914629], 'F':[1897807, 1874489, 1843383, 1808508, 1785184, 1758010, 1752364, 1739963, 1766075, 1772788, 1814738, 1799199, 1795367, 1825509, 1834379, 1845640, 1898776, 1919775, 1887660, 1833461, 1773440].\n"
     ]
    }
   ],
   "source": [
    "count_dynamics([year for year in range (1990,2011)])"
   ]
  }
 ],
 "metadata": {
  "kernelspec": {
   "display_name": "Python 3",
   "language": "python",
   "name": "python3"
  },
  "language_info": {
   "codemirror_mode": {
    "name": "ipython",
    "version": 3
   },
   "file_extension": ".py",
   "mimetype": "text/x-python",
   "name": "python",
   "nbconvert_exporter": "python",
   "pygments_lexer": "ipython3",
   "version": "3.6.0"
  }
 },
 "nbformat": 4,
 "nbformat_minor": 2
}
