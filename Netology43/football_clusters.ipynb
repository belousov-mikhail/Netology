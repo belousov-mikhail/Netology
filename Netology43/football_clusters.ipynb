{
 "cells": [
  {
   "cell_type": "code",
   "execution_count": 2,
   "metadata": {
    "collapsed": true
   },
   "outputs": [],
   "source": [
    "import requests\n",
    "import pandas as pd\n",
    "import numpy as np\n",
    "import matplotlib.pyplot as plt\n",
    "%matplotlib inline\n",
    "import pprint as p\n",
    "\n",
    "from scipy.cluster.vq import whiten, kmeans2"
   ]
  },
  {
   "cell_type": "code",
   "execution_count": 3,
   "metadata": {
    "collapsed": true
   },
   "outputs": [],
   "source": [
    "# API description http://api.football-data.org/docs/v1/index.html\n",
    "TOKEN = 'd84ee01a7bf64b9184fe76058f790cc8'\n",
    "teams_url = 'http://api.football-data.org/v1/soccerseasons/439/teams'"
   ]
  },
  {
   "cell_type": "code",
   "execution_count": 4,
   "metadata": {
    "collapsed": true
   },
   "outputs": [],
   "source": [
    "def call_api(url, result_key):\n",
    "    json = ()\n",
    "    try:\n",
    "        json = requests.get(url, headers= {'X-Auth-Token':TOKEN}).json()\n",
    "        return json[result_key]\n",
    "    except:\n",
    "        print (json)\n",
    "        return None"
   ]
  },
  {
   "cell_type": "code",
   "execution_count": 6,
   "metadata": {
    "collapsed": false
   },
   "outputs": [
    {
     "name": "stdout",
     "output_type": "stream",
     "text": [
      "[{'_links': {'fixtures': {'href': 'http://api.football-data.org/v1/teams/496/fixtures'},\n",
      "             'players': {'href': 'http://api.football-data.org/v1/teams/496/players'},\n",
      "             'self': {'href': 'http://api.football-data.org/v1/teams/496'}},\n",
      "  'code': None,\n",
      "  'crestUrl': 'http://upload.wikimedia.org/wikipedia/de/6/63/Rio_Ave_FC.svg',\n",
      "  'name': 'FC Rio Ave',\n",
      "  'shortName': 'Rio Ave',\n",
      "  'squadMarketValue': '26,775,000 €'},\n",
      " {'_links': {'fixtures': {'href': 'http://api.football-data.org/v1/teams/503/fixtures'},\n",
      "             'players': {'href': 'http://api.football-data.org/v1/teams/503/players'},\n",
      "             'self': {'href': 'http://api.football-data.org/v1/teams/503'}},\n",
      "  'code': 'FCP',\n",
      "  'crestUrl': 'http://upload.wikimedia.org/wikipedia/de/e/ed/FC_Porto_1922-2005.svg',\n",
      "  'name': 'FC Porto',\n",
      "  'shortName': 'Porto',\n",
      "  'squadMarketValue': '179,750,000 €'},\n",
      " {'_links': {'fixtures': {'href': 'http://api.football-data.org/v1/teams/583/fixtures'},\n",
      "             'players': {'href': 'http://api.football-data.org/v1/teams/583/players'},\n",
      "             'self': {'href': 'http://api.football-data.org/v1/teams/583'}},\n",
      "  'code': None,\n",
      "  'crestUrl': 'https://upload.wikimedia.org/wikipedia/pt/8/8c/Logo_Moreirense.svg',\n",
      "  'name': 'Moreirense FC',\n",
      "  'shortName': 'Moreirense',\n",
      "  'squadMarketValue': '13,900,000 €'},\n",
      " {'_links': {'fixtures': {'href': 'http://api.football-data.org/v1/teams/507/fixtures'},\n",
      "             'players': {'href': 'http://api.football-data.org/v1/teams/507/players'},\n",
      "             'self': {'href': 'http://api.football-data.org/v1/teams/507'}},\n",
      "  'code': None,\n",
      "  'crestUrl': 'http://upload.wikimedia.org/wikipedia/de/f/f2/FC_Pacos_de_Ferreira.svg',\n",
      "  'name': 'FC Paços de Ferreira',\n",
      "  'shortName': 'Ferreira',\n",
      "  'squadMarketValue': '20,400,000 €'},\n",
      " {'_links': {'fixtures': {'href': 'http://api.football-data.org/v1/teams/498/fixtures'},\n",
      "             'players': {'href': 'http://api.football-data.org/v1/teams/498/players'},\n",
      "             'self': {'href': 'http://api.football-data.org/v1/teams/498'}},\n",
      "  'code': 'SCP',\n",
      "  'crestUrl': 'https://upload.wikimedia.org/wikipedia/en/3/3e/Sporting_Clube_de_Portugal.png',\n",
      "  'name': 'Sporting CP',\n",
      "  'shortName': 'Sporting',\n",
      "  'squadMarketValue': '168,750,000 €'},\n",
      " {'_links': {'fixtures': {'href': 'http://api.football-data.org/v1/teams/504/fixtures'},\n",
      "             'players': {'href': 'http://api.football-data.org/v1/teams/504/players'},\n",
      "             'self': {'href': 'http://api.football-data.org/v1/teams/504'}},\n",
      "  'code': None,\n",
      "  'crestUrl': 'http://upload.wikimedia.org/wikipedia/de/3/3b/Marítimo_Funchal.svg',\n",
      "  'name': 'Maritimo Funchal',\n",
      "  'shortName': 'M Funchal',\n",
      "  'squadMarketValue': '20,300,000 €'},\n",
      " {'_links': {'fixtures': {'href': 'http://api.football-data.org/v1/teams/1049/fixtures'},\n",
      "             'players': {'href': 'http://api.football-data.org/v1/teams/1049/players'},\n",
      "             'self': {'href': 'http://api.football-data.org/v1/teams/1049'}},\n",
      "  'code': None,\n",
      "  'crestUrl': 'https://upload.wikimedia.org/wikipedia/commons/f/fc/Emblema_CD_Tondela.png',\n",
      "  'name': 'CD Tondela',\n",
      "  'shortName': 'Tondela',\n",
      "  'squadMarketValue': '10,175,000 €'},\n",
      " {'_links': {'fixtures': {'href': 'http://api.football-data.org/v1/teams/495/fixtures'},\n",
      "             'players': {'href': 'http://api.football-data.org/v1/teams/495/players'},\n",
      "             'self': {'href': 'http://api.football-data.org/v1/teams/495'}},\n",
      "  'code': 'SLB',\n",
      "  'crestUrl': 'http://upload.wikimedia.org/wikipedia/de/8/89/Logo_Benfica_Lissabon.svg',\n",
      "  'name': 'SL Benfica',\n",
      "  'shortName': 'Lisbon',\n",
      "  'squadMarketValue': '202,850,000 €'},\n",
      " {'_links': {'fixtures': {'href': 'http://api.football-data.org/v1/teams/810/fixtures'},\n",
      "             'players': {'href': 'http://api.football-data.org/v1/teams/810/players'},\n",
      "             'self': {'href': 'http://api.football-data.org/v1/teams/810'}},\n",
      "  'code': None,\n",
      "  'crestUrl': 'http://upload.wikimedia.org/wikipedia/en/4/40/Boavista_F.C._logo.svg',\n",
      "  'name': 'Boavista Porto FC',\n",
      "  'shortName': 'Boavista',\n",
      "  'squadMarketValue': '18,625,000 €'},\n",
      " {'_links': {'fixtures': {'href': 'http://api.football-data.org/v1/teams/712/fixtures'},\n",
      "             'players': {'href': 'http://api.football-data.org/v1/teams/712/players'},\n",
      "             'self': {'href': 'http://api.football-data.org/v1/teams/712'}},\n",
      "  'code': None,\n",
      "  'crestUrl': 'http://upload.wikimedia.org/wikipedia/de/b/b4/FC_Arouca.png',\n",
      "  'name': 'FC Arouca',\n",
      "  'shortName': 'Arouca',\n",
      "  'squadMarketValue': '17,850,000 €'},\n",
      " {'_links': {'fixtures': {'href': 'http://api.football-data.org/v1/teams/506/fixtures'},\n",
      "             'players': {'href': 'http://api.football-data.org/v1/teams/506/players'},\n",
      "             'self': {'href': 'http://api.football-data.org/v1/teams/506'}},\n",
      "  'code': None,\n",
      "  'crestUrl': 'http://upload.wikimedia.org/wikipedia/de/b/bd/Vitória_Setúbal.svg',\n",
      "  'name': 'Vitoria Setubal',\n",
      "  'shortName': 'Setubal',\n",
      "  'squadMarketValue': '19,775,000 €'},\n",
      " {'_links': {'fixtures': {'href': 'http://api.football-data.org/v1/teams/711/fixtures'},\n",
      "             'players': {'href': 'http://api.football-data.org/v1/teams/711/players'},\n",
      "             'self': {'href': 'http://api.football-data.org/v1/teams/711'}},\n",
      "  'code': None,\n",
      "  'crestUrl': 'http://upload.wikimedia.org/wikipedia/de/d/db/Belenenses_Lissabon.svg',\n",
      "  'name': 'C.F. Os Belenenses',\n",
      "  'shortName': 'B. Lisbon',\n",
      "  'squadMarketValue': '16,700,000 €'},\n",
      " {'_links': {'fixtures': {'href': 'http://api.football-data.org/v1/teams/502/fixtures'},\n",
      "             'players': {'href': 'http://api.football-data.org/v1/teams/502/players'},\n",
      "             'self': {'href': 'http://api.football-data.org/v1/teams/502'}},\n",
      "  'code': None,\n",
      "  'crestUrl': 'http://upload.wikimedia.org/wikipedia/de/8/81/Vitoria_Guimaraes.svg',\n",
      "  'name': 'Vitoria Guimaraes',\n",
      "  'shortName': 'Guimares',\n",
      "  'squadMarketValue': '34,000,000 €'},\n",
      " {'_links': {'fixtures': {'href': 'http://api.football-data.org/v1/teams/497/fixtures'},\n",
      "             'players': {'href': 'http://api.football-data.org/v1/teams/497/players'},\n",
      "             'self': {'href': 'http://api.football-data.org/v1/teams/497'}},\n",
      "  'code': None,\n",
      "  'crestUrl': 'http://upload.wikimedia.org/wikipedia/de/f/f3/Sporting_Clube_de_Braga.svg',\n",
      "  'name': 'Sporting Braga',\n",
      "  'shortName': 'Braga',\n",
      "  'squadMarketValue': '47,600,000 €'},\n",
      " {'_links': {'fixtures': {'href': 'http://api.football-data.org/v1/teams/582/fixtures'},\n",
      "             'players': {'href': 'http://api.football-data.org/v1/teams/582/players'},\n",
      "             'self': {'href': 'http://api.football-data.org/v1/teams/582'}},\n",
      "  'code': None,\n",
      "  'crestUrl': 'http://upload.wikimedia.org/wikipedia/de/1/14/GD_Estoril_Praia.svg',\n",
      "  'name': 'GD Estoril Praia',\n",
      "  'shortName': 'Estoril',\n",
      "  'squadMarketValue': '18,350,000 €'},\n",
      " {'_links': {'fixtures': {'href': 'http://api.football-data.org/v1/teams/500/fixtures'},\n",
      "             'players': {'href': 'http://api.football-data.org/v1/teams/500/players'},\n",
      "             'self': {'href': 'http://api.football-data.org/v1/teams/500'}},\n",
      "  'code': None,\n",
      "  'crestUrl': None,\n",
      "  'name': 'Feirense',\n",
      "  'shortName': None,\n",
      "  'squadMarketValue': None},\n",
      " {'_links': {'fixtures': {'href': 'http://api.football-data.org/v1/teams/501/fixtures'},\n",
      "             'players': {'href': 'http://api.football-data.org/v1/teams/501/players'},\n",
      "             'self': {'href': 'http://api.football-data.org/v1/teams/501'}},\n",
      "  'code': None,\n",
      "  'crestUrl': 'http://upload.wikimedia.org/wikipedia/de/e/ee/Nacional_Funchal.svg',\n",
      "  'name': 'Nacional Funchal',\n",
      "  'shortName': 'Funchal',\n",
      "  'squadMarketValue': '17,500,000 €'},\n",
      " {'_links': {'fixtures': {'href': 'http://api.football-data.org/v1/teams/1103/fixtures'},\n",
      "             'players': {'href': 'http://api.football-data.org/v1/teams/1103/players'},\n",
      "             'self': {'href': 'http://api.football-data.org/v1/teams/1103'}},\n",
      "  'code': None,\n",
      "  'crestUrl': 'https://upload.wikimedia.org/wikipedia/en/0/05/G_D_Chaves.png',\n",
      "  'name': 'G.D. Chaves',\n",
      "  'shortName': 'Chaves',\n",
      "  'squadMarketValue': None}]\n"
     ]
    }
   ],
   "source": [
    "teams = call_api (teams_url, 'teams')\n",
    "p.pprint (teams)"
   ]
  },
  {
   "cell_type": "code",
   "execution_count": 30,
   "metadata": {
    "collapsed": false
   },
   "outputs": [
    {
     "name": "stdout",
     "output_type": "stream",
     "text": [
      "Team \"FC Rio Ave\", market value 26775000.0 €, 12 looses\n",
      "Team \"FC Porto\", market value 179750000.0 €, 4 looses\n",
      "Team \"Moreirense FC\", market value 13900000.0 €, 17 looses\n",
      "Team \"FC Paços de Ferreira\", market value 20400000.0 €, 12 looses\n",
      "Team \"Sporting CP\", market value 168750000.0 €, 9 looses\n",
      "Team \"Maritimo Funchal\", market value 20300000.0 €, 9 looses\n",
      "Team \"CD Tondela\", market value 10175000.0 €, 17 looses\n",
      "Team \"SL Benfica\", market value 202850000.0 €, 5 looses\n",
      "Team \"Boavista Porto FC\", market value 18625000.0 €, 11 looses\n",
      "Team \"FC Arouca\", market value 17850000.0 €, 17 looses\n",
      "Team \"Vitoria Setubal\", market value 19775000.0 €, 13 looses\n",
      "Team \"C.F. Os Belenenses\", market value 16700000.0 €, 14 looses\n",
      "Team \"Vitoria Guimaraes\", market value 34000000.0 €, 6 looses\n",
      "Team \"Sporting Braga\", market value 47600000.0 €, 7 looses\n",
      "Team \"GD Estoril Praia\", market value 18350000.0 €, 15 looses\n",
      "Team \"Feirense\", market value 0 €, 14 looses\n",
      "Team \"Nacional Funchal\", market value 17500000.0 €, 18 looses\n",
      "Team \"G.D. Chaves\", market value 0 €, 9 looses\n"
     ]
    }
   ],
   "source": [
    "for team in teams:\n",
    "    market_value = float(team['squadMarketValue'].split(' ')[0].replace(',','')) if team['squadMarketValue'] is not None else 0\n",
    "    fixtures = call_api(team['_links']['fixtures']['href'], 'fixtures')\n",
    "    looses = 0    \n",
    "    for f in fixtures:\n",
    "        goals_away = f['result']['goalsAwayTeam'] if f['result']['goalsAwayTeam'] is not None else 0\n",
    "        goals_home = f['result']['goalsHomeTeam'] if f['result']['goalsHomeTeam'] is not None else 0\n",
    "        if team['name'] == f['homeTeamName']  :\n",
    "            looses += 1 if goals_away > goals_home else 0\n",
    "        else:\n",
    "            looses += 1 if goals_home > goals_away else 0\n",
    "    print ('Team \"{}\", market value {} €, {} looses'.format(team['name'], market_value, looses))            \n",
    "    team['looses'] = looses\n",
    "    team['market_value'] = market_value"
   ]
  },
  {
   "cell_type": "code",
   "execution_count": 33,
   "metadata": {
    "collapsed": false
   },
   "outputs": [
    {
     "data": {
      "text/plain": [
       "[{'looses': 12, 'market_value': 26775000.0, 'name': 'FC Rio Ave'},\n",
       " {'looses': 4, 'market_value': 179750000.0, 'name': 'FC Porto'},\n",
       " {'looses': 17, 'market_value': 13900000.0, 'name': 'Moreirense FC'},\n",
       " {'looses': 12, 'market_value': 20400000.0, 'name': 'FC Paços de Ferreira'},\n",
       " {'looses': 9, 'market_value': 168750000.0, 'name': 'Sporting CP'},\n",
       " {'looses': 9, 'market_value': 20300000.0, 'name': 'Maritimo Funchal'},\n",
       " {'looses': 17, 'market_value': 10175000.0, 'name': 'CD Tondela'},\n",
       " {'looses': 5, 'market_value': 202850000.0, 'name': 'SL Benfica'},\n",
       " {'looses': 11, 'market_value': 18625000.0, 'name': 'Boavista Porto FC'},\n",
       " {'looses': 17, 'market_value': 17850000.0, 'name': 'FC Arouca'},\n",
       " {'looses': 13, 'market_value': 19775000.0, 'name': 'Vitoria Setubal'},\n",
       " {'looses': 14, 'market_value': 16700000.0, 'name': 'C.F. Os Belenenses'},\n",
       " {'looses': 6, 'market_value': 34000000.0, 'name': 'Vitoria Guimaraes'},\n",
       " {'looses': 7, 'market_value': 47600000.0, 'name': 'Sporting Braga'},\n",
       " {'looses': 15, 'market_value': 18350000.0, 'name': 'GD Estoril Praia'},\n",
       " {'looses': 14, 'market_value': 0, 'name': 'Feirense'},\n",
       " {'looses': 18, 'market_value': 17500000.0, 'name': 'Nacional Funchal'},\n",
       " {'looses': 9, 'market_value': 0, 'name': 'G.D. Chaves'}]"
      ]
     },
     "execution_count": 33,
     "metadata": {},
     "output_type": "execute_result"
    }
   ],
   "source": [
    "team_for_pd = []\n",
    "for team in teams:\n",
    "    team_for_pd.append({'name': team['name'], 'looses':team['looses'], 'market_value': team['market_value']})\n",
    "team_for_pd                 "
   ]
  },
  {
   "cell_type": "code",
   "execution_count": 34,
   "metadata": {
    "collapsed": true
   },
   "outputs": [],
   "source": [
    "teams_pd = pd.DataFrame(team_for_pd)\n",
    "del teams_pd['name']"
   ]
  },
  {
   "cell_type": "code",
   "execution_count": 39,
   "metadata": {
    "collapsed": false
   },
   "outputs": [],
   "source": [
    "whitened = whiten(teams_pd.as_matrix())\n",
    "colors_map ={0: 'r', 1: 'g', 2: 'b', 3:'y', 4: 'm'}"
   ]
  },
  {
   "cell_type": "code",
   "execution_count": 42,
   "metadata": {
    "collapsed": false
   },
   "outputs": [
    {
     "data": {
      "text/plain": [
       "<matplotlib.axes._subplots.AxesSubplot at 0x649dee5f8>"
      ]
     },
     "execution_count": 42,
     "metadata": {},
     "output_type": "execute_result"
    },
    {
     "data": {
      "image/png": "[encoded data removed]",
      "text/plain": [
       "<matplotlib.figure.Figure at 0x649e46f60>"
      ]
     },
     "metadata": {},
     "output_type": "display_data"
    }
   ],
   "source": [
    "#3 clasters\n",
    "centroids, cluster_map = kmeans2(whitened, 3)\n",
    "colors = [colors_map[c] for c in cluster_map]\n",
    "teams_pd.plot.scatter(x='looses', y='market_value', c=colors, s=100)"
   ]
  },
  {
   "cell_type": "code",
   "execution_count": 45,
   "metadata": {
    "collapsed": false
   },
   "outputs": [
    {
     "data": {
      "text/plain": [
       "<matplotlib.axes._subplots.AxesSubplot at 0x64ac29a20>"
      ]
     },
     "execution_count": 45,
     "metadata": {},
     "output_type": "execute_result"
    },
    {
     "data": {
      "image/png": "[encoded data removed]",
      "text/plain": [
       "<matplotlib.figure.Figure at 0x64ac41a58>"
      ]
     },
     "metadata": {},
     "output_type": "display_data"
    }
   ],
   "source": [
    "#5 clasters\n",
    "centroids, cluster_map = kmeans2(whitened, 5)\n",
    "colors = [colors_map[c] for c in cluster_map]\n",
    "teams_pd.plot.scatter(x='looses', y='market_value', c=colors, s=100)"
   ]
  }
 ],
 "metadata": {
  "kernelspec": {
   "display_name": "Python 3",
   "language": "python",
   "name": "python3"
  },
  "language_info": {
   "codemirror_mode": {
    "name": "ipython",
    "version": 3
   },
   "file_extension": ".py",
   "mimetype": "text/x-python",
   "name": "python",
   "nbconvert_exporter": "python",
   "pygments_lexer": "ipython3",
   "version": "3.6.0"
  }
 },
 "nbformat": 4,
 "nbformat_minor": 2
}
